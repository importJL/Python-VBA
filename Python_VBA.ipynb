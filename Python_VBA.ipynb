{
 "cells": [
  {
   "cell_type": "markdown",
   "metadata": {},
   "source": [
    "## Automated Operation Processing With Excel VBA\n",
    "----\n",
    "*Purpose*:  to demonstrate use of windows API & VBA for cross-platform automated operations.<br>\n",
    "*Script function*:  activates macro Excel workbook and conducts various functions as input from Python and generates new Excel files with results in a pivot table"
   ]
  },
  {
   "cell_type": "markdown",
   "metadata": {},
   "source": [
    "### Import libraries"
   ]
  },
  {
   "cell_type": "code",
   "execution_count": 1,
   "metadata": {},
   "outputs": [],
   "source": [
    "import win32com.client\n",
    "import os, os.path"
   ]
  },
  {
   "cell_type": "markdown",
   "metadata": {},
   "source": [
    "### Create Excel instance & set macro paths and variables"
   ]
  },
  {
   "cell_type": "code",
   "execution_count": 2,
   "metadata": {},
   "outputs": [],
   "source": [
    "xl = win32com.client.Dispatch(\"Excel.Application\")\n",
    "# xl.Visible = 1\n",
    "xl.Application.DisplayAlerts = False"
   ]
  },
  {
   "cell_type": "code",
   "execution_count": 3,
   "metadata": {},
   "outputs": [],
   "source": [
    "filename = 'Macro.xlsm'\n",
    "modulename = 'Module1'\n",
    "op_macroname = 'Arithmetic'\n",
    "clr_macroname = 'ClearSheet'\n",
    "pvt_macroname = 'CreatePivot'\n",
    "\n",
    "operation = filename + '!' + modulename + '.' + op_macroname\n",
    "pivottable = filename + '!' + modulename + '.' + pvt_macroname\n",
    "clear = filename + '!' + modulename + '.' + clr_macroname\n",
    "\n",
    "outputfile_root = os.getcwd() + '\\\\'"
   ]
  },
  {
   "cell_type": "markdown",
   "metadata": {},
   "source": [
    "### Macro-specific parameters\n",
    "* mathoperations: selected Excel operations to be executed by macro - options: Add, Subtract, Multiply, Divide\n",
    "* inputnum: a constant used within the operation (can be changed as variable) - operation & inputnum is performed on a list of numbers, e.g. operation = 'Divide', inputnum = 10, number acted on = 20 -> result: 20/10 = 2\n",
    "* rnglength: # of rows used for operation to act on"
   ]
  },
  {
   "cell_type": "code",
   "execution_count": 4,
   "metadata": {},
   "outputs": [],
   "source": [
    "mathoperations = ['Add', 'Subtract', 'Multiply', 'Divide']\n",
    "inputnum = 10\n",
    "rnglength = 50"
   ]
  },
  {
   "cell_type": "markdown",
   "metadata": {},
   "source": [
    "### Execute operation"
   ]
  },
  {
   "cell_type": "code",
   "execution_count": 5,
   "metadata": {},
   "outputs": [
    {
     "name": "stdout",
     "output_type": "stream",
     "text": [
      "File found: Macro.xlsm.  Processing operations...\n",
      "All operations done!\n",
      "Wall time: 2.42 s\n"
     ]
    }
   ],
   "source": [
    "%%time\n",
    "\n",
    "path = os.getcwd()\n",
    "files = os.listdir(path)\n",
    "\n",
    "for f in files:\n",
    "    if f == filename:\n",
    "        print(f'File found: {f}.  Processing operations...')\n",
    "        wb = xl.Workbooks.Open(os.path.join(path, f), UpdateLinks=3)\n",
    "        xl.Application.Run(clear)\n",
    "        \n",
    "        for colID, op in enumerate(mathoperations, 2):\n",
    "            xl.Application.Run(operation, op, inputnum, rnglength, colID, outputfile_root + op) # carries operation, then splits wb\n",
    "        \n",
    "        for f in os.listdir(path):\n",
    "            if f.split('.')[0] in mathoperations:\n",
    "                xl.Application.Run(pivottable, os.path.join(path, f), f.split('.')[0])\n",
    "            \n",
    "        wb.Save() # on the main macro file\n",
    "        wb.Close() # on the main macro file\n",
    "        xl.Application.DisplayAlerts = False\n",
    "        xl.Application.Quit()\n",
    "        del xl\n",
    "        \n",
    "print('All operations done!')"
   ]
  },
  {
   "cell_type": "code",
   "execution_count": null,
   "metadata": {},
   "outputs": [],
   "source": []
  }
 ],
 "metadata": {
  "kernelspec": {
   "display_name": "Python 3 (ipykernel)",
   "language": "python",
   "name": "python3"
  },
  "language_info": {
   "codemirror_mode": {
    "name": "ipython",
    "version": 3
   },
   "file_extension": ".py",
   "mimetype": "text/x-python",
   "name": "python",
   "nbconvert_exporter": "python",
   "pygments_lexer": "ipython3",
   "version": "3.9.7"
  }
 },
 "nbformat": 4,
 "nbformat_minor": 4
}
